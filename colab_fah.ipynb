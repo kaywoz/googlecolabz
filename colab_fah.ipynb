{
  "nbformat": 4,
  "nbformat_minor": 0,
  "metadata": {
    "colab": {
      "name": "colab_fah.ipynb",
      "private_outputs": true,
      "provenance": [],
      "authorship_tag": "ABX9TyOQ5IIyvcUiB0ZCD48QDGFb",
      "include_colab_link": true
    },
    "kernelspec": {
      "name": "python3",
      "display_name": "Python 3"
    },
    "language_info": {
      "name": "python"
    },
    "accelerator": "GPU"
  },
  "cells": [
    {
      "cell_type": "markdown",
      "metadata": {
        "id": "view-in-github",
        "colab_type": "text"
      },
      "source": [
        "<a href=\"https://colab.research.google.com/github/kaywoz/googlecolabz/blob/main/colab_fah.ipynb\" target=\"_parent\"><img src=\"https://colab.research.google.com/assets/colab-badge.svg\" alt=\"Open In Colab\"/></a>"
      ]
    },
    {
      "cell_type": "code",
      "metadata": {
        "id": "13rvL4pPnDsx"
      },
      "source": [
        "# check GPU specs\n",
        "!nvidia-smi\n",
        "# clone, build and install fah\n",
        "!wget https://download.foldingathome.org/releases/public/release/fahclient/debian-testing-64bit/v7.4/fahclient_7.4.4_amd64.deb\n",
        "!wget https://download.foldingathome.org/releases/public/release/fahcontrol/debian-testing-64bit/v7.4/fahcontrol_7.4.4-1_all.deb\n",
        "!wget https://download.foldingathome.org/releases/public/release/fahviewer/debian-testing-64bit/v7.4/fahviewer_7.4.4_amd64.deb\n",
        "#prep folders and config.xml\n",
        "!mkdir -p /etc/fahclient\n",
        "!curl https://gist.githubusercontent.com/kaywoz/4d9bfc67e0992e3fcb979409ab9d1618/raw/525de7ed9ee46190121c79ef5c99507e6bf8ede8/config.xml -o /etc/fahclient/config.xml\n",
        "# install fah\n",
        "!yes |sudo dpkg -i --force-depends fahclient_7.4.4_amd64.deb\n",
        "!yes |sudo dpkg -i --force-depends fahcontrol_7.4.4-1_all.deb\n",
        "# start fah with all flags!\n",
        "!FAHClient --user=Morna --team=37451 --passkey=b8028855f0642f79b8028855f0642f79 --gpu=true --smp=true"
      ],
      "execution_count": null,
      "outputs": []
    }
  ]
}