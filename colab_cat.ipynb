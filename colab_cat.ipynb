{
  "nbformat": 4,
  "nbformat_minor": 0,
  "metadata": {
    "colab": {
      "name": "colab_cat.ipynb",
      "private_outputs": true,
      "provenance": [],
      "collapsed_sections": [],
      "authorship_tag": "ABX9TyOvc8U65tyKYL8pl/+R6UUS",
      "include_colab_link": true
    },
    "kernelspec": {
      "name": "python3",
      "display_name": "Python 3"
    },
    "language_info": {
      "name": "python"
    },
    "accelerator": "GPU"
  },
  "cells": [
    {
      "cell_type": "markdown",
      "metadata": {
        "id": "view-in-github",
        "colab_type": "text"
      },
      "source": [
        "<a href=\"https://colab.research.google.com/github/kaywoz/googlecolabz/blob/main/colab_cat.ipynb\" target=\"_parent\"><img src=\"https://colab.research.google.com/assets/colab-badge.svg\" alt=\"Open In Colab\"/></a>"
      ]
    },
    {
      "cell_type": "code",
      "metadata": {
        "id": "_PDz0arzi6Ur"
      },
      "source": [
        "#manual prep\n",
        "# get hashes to crack\n",
        "# gake a directory called 'dothashcat' in your Google Drive before this\n",
        "# with the 'hashes' subdirectory for storing hashes\n",
        "from google.colab import drive\n",
        "\n",
        "# this will ask you to go to a link and get an authorization code\n",
        "# to let the .hashcat folder get synced to your Google Drive\n",
        "drive.mount('/content/drive')\n",
        "# make a symbolic link between Google Drive\n",
        "# and the local .hashcat directory\n",
        "!ls /content/drive/My\\ Drive/dothashcat\n",
        "!ln -s /content/drive/My\\ Drive/dothashcat /root/.hashcat\n",
        "\n",
        "\n",
        "\n",
        "\n"
      ],
      "execution_count": null,
      "outputs": []
    },
    {
      "cell_type": "code",
      "metadata": {
        "id": "L0__bngYjJqy"
      },
      "source": [
        "#auto\n",
        "\n",
        "# check GPU specs\n",
        "!nvidia-smi\n",
        "# clone, build and install hashcat\n",
        "!apt install cmake build-essential -y\n",
        "!apt install checkinstall git -y\n",
        "!git clone https://github.com/hashcat/hashcat.git\n",
        "!cd hashcat && git submodule update --init && make && make install\n",
        "# check the hashcat Version to make sure it's installed correctly\n",
        "!hashcat --version\n",
        "# NTLM benchmark (change this to check the speed of whichever hash you're cracking)\n",
        "#!hashcat -w 4 -m 1000 --benchmark\n",
        "# get wordlists\n",
        "!mkdir /root/wordlists && cd /root/wordlists\n",
        "# clone the SecLists repository\n",
        "#!git clone https://github.com/danielmiessler/SecLists /root/wordlists/SecLists\n",
        "# append 'hashcat' for demonstration purposes\n",
        "#!echo \"hashcat\" >> /root/wordlists/SecLists/Passwords/Leaked-Databases/rockyou-75.txt\n",
        "#!ls /root/wordlists/SecLists\n"
      ],
      "execution_count": null,
      "outputs": []
    },
    {
      "cell_type": "code",
      "metadata": {
        "id": "jLdu7OtBjdRE"
      },
      "source": [
        "#manual run\n",
        "# Start pure brute force cracking with a session name\n",
        "# !hashcat -m 1000 -a 3 -w 4 -O /root/.hashcat/hashes/hash.txt ?a?a?a?a?a?a?a?a?a?a?a?a?a --increment --session mask --status\n",
        "# Crack with a wordlist\n",
        "#!hashcat -m  1000 -a 0 -w 4 -O /root/.hashcat/hashes/hash.txt /root/wordlists/SecLists/Passwords/Leaked-Databases/rockyou-75.txt --session wordlist --status\n",
        "\n",
        "# Restore the session\n",
        "#!hashcat --session $SESSION --restore\n",
        "\n",
        "# demo -> Crack 'hashcat' with a wordlist\n",
        "#!hashcat -m 13100 -a 3 -w 4 -O /root/.hashcat/hashes/hash.txt ?u?l?l?l?l?l?d?d?d --session mask --status\n",
        "!!hashcat -m 0 -a 3 -w 4 -O /root/.hashcat/hashes/2432.left ?a?a?a?a?a?a?a?a?A?a?a?a?a?a?a?a?a?a --increment --status --outfile /root/.hashcat/hashes/out.txt"
      ],
      "execution_count": null,
      "outputs": []
    }
  ]
}